{
 "cells": [
  {
   "cell_type": "markdown",
   "metadata": {},
   "source": [
    "___\n",
    "\n",
    "<a href='https://www.udemy.com/user/joseportilla/'><img src='../Pierian_Data_Logo.png'/></a>\n",
    "___\n",
    "<center><em>Content Copyright by Pierian Data</em></center>"
   ]
  },
  {
   "cell_type": "markdown",
   "metadata": {},
   "source": [
    "# Milestone Project 1\n",
    "## Congratulations on making it to your first milestone!\n",
    "You've already learned a ton and are ready to work on a real project.\n",
    "\n",
    "Your assignment: Create a Tic Tac Toe game. You are free to use any IDE you like.\n",
    "\n",
    "Here are the requirements:\n",
    "\n",
    "* 2 players should be able to play the game (both sitting at the same computer)\n",
    "* The board should be printed out every time a player makes a move\n",
    "* You should be able to accept input of the player position and then place a symbol on the board\n",
    "\n",
    "Feel free to use Google to help you figure anything out (but don't just Google \"Tic Tac Toe in Python\" otherwise you won't learn anything!) Keep in mind that this project can take anywhere between several hours to several days.\n",
    "\n",
    "There are 4 Jupyter Notebooks related to this assignment:\n",
    "\n",
    "* This Assignment Notebook\n",
    "* A \"Walkthrough Steps Workbook\" Notebook\n",
    "* A \"Complete Walkthrough Solution\" Notebook\n",
    "* An \"Advanced Solution\" Notebook\n",
    "\n",
    "I encourage you to just try to start the project on your own without referencing any of the notebooks. If you get stuck, check out the next lecture which is a text lecture with helpful hints and steps. If you're still stuck after that, then check out the Walkthrough Steps Workbook, which breaks up the project in steps for you to solve. Still stuck? Then check out the Complete Walkthrough Solution video for more help on approaching the project!"
   ]
  },
  {
   "cell_type": "markdown",
   "metadata": {},
   "source": [
    "There are parts of this that will be a struggle...and that is good! I have complete faith that if you have made it this far through the course you have all the tools and knowledge to tackle this project. Remember, it's totally open book, so take your time, do a little research, and remember:\n",
    "\n",
    "## HAVE FUN!"
   ]
  },
  {
   "cell_type": "code",
   "execution_count": 6,
   "metadata": {},
   "outputs": [],
   "source": [
    "# display board instructions function\n",
    "\n",
    "def display_instructions():    \n",
    "    print(\"Place an X or O in one of these positions:\")\n",
    "    print(\"        |     |     \")\n",
    "    print(\"    (7) | (8) | (9) \")\n",
    "    print(\"   _____|_____|_____\")\n",
    "    print(\"        |     |     \")\n",
    "    print(\"    (4) | (5) | (6) \")\n",
    "    print(\"   _____|_____|_____\")\n",
    "    print(\"        |     |     \")\n",
    "    print(\"    (1) | (2) | (3) \")\n",
    "    print(\"        |     |     \")\n",
    "    print(\"Get three in a row to win tic-tac-toe!\\n\")\n",
    "    \n",
    "    "
   ]
  },
  {
   "cell_type": "code",
   "execution_count": 7,
   "metadata": {},
   "outputs": [],
   "source": [
    "# display game board function\n",
    "\n",
    "def display_game_board():    \n",
    "    print(\"    \")\n",
    "    print(\"        |     |     \")\n",
    "    print(f\"     {selections[7]}  |  {selections[8]}  |  {selections[9]}  \")\n",
    "    print(\"   _____|_____|_____\")\n",
    "    print(\"        |     |     \")\n",
    "    print(f\"     {selections[4]}  |  {selections[5]}  |  {selections[6]}  \")\n",
    "    print(\"   _____|_____|_____\")\n",
    "    print(\"        |     |     \")\n",
    "    print(f\"     {selections[1]}  |  {selections[2]}  |  {selections[3]}  \")\n",
    "    print(\"        |     |     \\n\")\n",
    "    \n",
    "    "
   ]
  },
  {
   "cell_type": "code",
   "execution_count": 8,
   "metadata": {},
   "outputs": [],
   "source": [
    "# define set of initial values when starting new game\n",
    "\n",
    "def initial_values():\n",
    "    global selections, positions, player1_choices, player2_choices, winner, game_on\n",
    "    selections = [' ',' ',' ',' ',' ',' ',' ',' ',' ',' ']\n",
    "    positions = {'1','2','3','4','5','6','7','8','9'}\n",
    "    player1_choices = {\"\"}\n",
    "    player2_choices = {\"\"}\n",
    "    winner = False\n",
    "    game_on = True"
   ]
  },
  {
   "cell_type": "code",
   "execution_count": 57,
   "metadata": {},
   "outputs": [],
   "source": [
    "#position choice player\n",
    "def position_choice(positions,player1_choices,player2_choices):\n",
    "    choice = 'wrong'\n",
    "    player1 = True\n",
    "\n",
    "    if len(positions) == 0:\n",
    "        print(\"No winner!\")\n",
    "        winner = True\n",
    "    else:\n",
    "        while player1:\n",
    "            while choice not in positions:\n",
    "                choice = input(\"Player 1 pick a position:\")\n",
    "        \n",
    "                if choice not in positions:\n",
    "                    print('Sorry, invalid choice')        \n",
    "            \n",
    "            positions.remove(choice)\n",
    "            selections[int(choice)] = \"X\"\n",
    "            player1_choices.add(int(choice))         \n",
    "            display_game_board()\n",
    "            player1 = False\n",
    "            \n",
    "        while player1 == False:\n",
    "            while choice not in positions:\n",
    "                choice = input(\"Player 2 pick a position:\")\n",
    "        \n",
    "                if choice not in positions:\n",
    "                    print('Sorry, invalid choice')\n",
    "            \n",
    "            positions.remove(choice)\n",
    "            selections[int(choice)] = \"O\"\n",
    "            player2_choices.add(int(choice))\n",
    "            display_game_board()\n",
    "            player1 = True"
   ]
  },
  {
   "cell_type": "code",
   "execution_count": 39,
   "metadata": {},
   "outputs": [],
   "source": [
    "#check winner function\n",
    "\n",
    "def check_winner(player1_choices,player2_choices):\n",
    "    winning_values = [\n",
    "        (1,2,3),\n",
    "        (7,8,9),\n",
    "        (1,2,3),\n",
    "        (4,5,6),\n",
    "        (1,5,9),\n",
    "        (3,5,7),\n",
    "        (8,5,2),\n",
    "        (7,4,1),\n",
    "        (9,6,3),\n",
    "    ]\n",
    "    winner = False\n",
    "    \n",
    "    for a in player1_choices:\n",
    "        for b in player1_choices:\n",
    "            for c in player1_choices:\n",
    "                if (a,b,c) in winning_values:\n",
    "                    print('Player 1 wins')\n",
    "                    winner = True\n",
    "                    break\n",
    "                else:\n",
    "                    continue\n",
    "    \n",
    "    for a in player2_choices:\n",
    "        for b in player2_choices:\n",
    "            for c in player2_choices:\n",
    "                if (a,b,c) in winning_values:\n",
    "                    print('Player 2 wins')\n",
    "                    winner = True\n",
    "                else:\n",
    "                    continue\n",
    "    \n",
    "    if winner:\n",
    "        return True\n",
    "    else:\n",
    "        return False\n",
    "    "
   ]
  },
  {
   "cell_type": "code",
   "execution_count": 41,
   "metadata": {},
   "outputs": [],
   "source": [
    "def gameon_choice():\n",
    "    choice = \"\"\n",
    "    \n",
    "    while choice not in ['Y','N','y','n']:\n",
    "        choice = input('Play another game? (Y or N)')\n",
    "\n",
    "        if choice not in ['Y','N','y','n']:\n",
    "            print(\"Sorry I don't understand, please choose Y or N\")\n",
    "\n",
    "    if choice in ['Y','y']:\n",
    "        start_new_game(winner)\n",
    "        return True\n",
    "    else:\n",
    "        Pass"
   ]
  },
  {
   "cell_type": "code",
   "execution_count": 42,
   "metadata": {},
   "outputs": [],
   "source": [
    "# start new game function\n",
    "\n",
    "def start_new_game(winner):\n",
    "    global selections\n",
    "    selections = [' ',' ',' ',' ',' ',' ',' ',' ',' ',' ']\n",
    "    positions = {'1','2','3','4','5','6','7','8','9'}\n",
    "    player1_choices = {\"\"}\n",
    "    player2_choices = {\"\"}\n",
    "    winner = False\n",
    "    game_on = True\n",
    "\n",
    "    display_game_board()\n",
    "\n",
    "    while winner == False:\n",
    "        position_choice(positions,player1_choices,player2_choices)\n",
    "        \n",
    "        winner = check_winner(player1_choices,player2_choices)\n",
    "    \n",
    "    if winner:\n",
    "        while game_on:\n",
    "            game_on = gameon_choice()\n",
    "    \n",
    "\n",
    "# pick heads or tails"
   ]
  },
  {
   "cell_type": "code",
   "execution_count": 56,
   "metadata": {
    "jp-MarkdownHeadingCollapsed": true,
    "scrolled": true
   },
   "outputs": [
    {
     "name": "stdout",
     "output_type": "stream",
     "text": [
      "Place an X or O in one of these positions:\n",
      "        |     |     \n",
      "    (7) | (8) | (9) \n",
      "   _____|_____|_____\n",
      "        |     |     \n",
      "    (4) | (5) | (6) \n",
      "   _____|_____|_____\n",
      "        |     |     \n",
      "    (1) | (2) | (3) \n",
      "        |     |     \n",
      "Get three in a row to win tic-tac-toe!\n",
      "\n",
      "    \n",
      "        |     |     \n",
      "        |     |     \n",
      "   _____|_____|_____\n",
      "        |     |     \n",
      "        |     |     \n",
      "   _____|_____|_____\n",
      "        |     |     \n",
      "        |     |     \n",
      "        |     |     \n",
      "\n"
     ]
    },
    {
     "name": "stdin",
     "output_type": "stream",
     "text": [
      "Player 1 pick a position: 1\n"
     ]
    },
    {
     "name": "stdout",
     "output_type": "stream",
     "text": [
      "    \n",
      "        |     |     \n",
      "        |     |     \n",
      "   _____|_____|_____\n",
      "        |     |     \n",
      "        |     |     \n",
      "   _____|_____|_____\n",
      "        |     |     \n",
      "     X  |     |     \n",
      "        |     |     \n",
      "\n",
      "{'2', '7', '4', '5', '6', '9', '8', '3'}\n"
     ]
    },
    {
     "name": "stdin",
     "output_type": "stream",
     "text": [
      "Player 2 pick a position: 3\n"
     ]
    },
    {
     "name": "stdout",
     "output_type": "stream",
     "text": [
      "    \n",
      "        |     |     \n",
      "        |     |     \n",
      "   _____|_____|_____\n",
      "        |     |     \n",
      "        |     |     \n",
      "   _____|_____|_____\n",
      "        |     |     \n",
      "     X  |     |  O  \n",
      "        |     |     \n",
      "\n"
     ]
    },
    {
     "name": "stdin",
     "output_type": "stream",
     "text": [
      "Player 1 pick a position: 2\n"
     ]
    },
    {
     "name": "stdout",
     "output_type": "stream",
     "text": [
      "    \n",
      "        |     |     \n",
      "        |     |     \n",
      "   _____|_____|_____\n",
      "        |     |     \n",
      "        |     |     \n",
      "   _____|_____|_____\n",
      "        |     |     \n",
      "     X  |  X  |  O  \n",
      "        |     |     \n",
      "\n",
      "{'7', '4', '5', '6', '9', '8'}\n"
     ]
    },
    {
     "name": "stdin",
     "output_type": "stream",
     "text": [
      "Player 2 pick a position: 5\n"
     ]
    },
    {
     "name": "stdout",
     "output_type": "stream",
     "text": [
      "    \n",
      "        |     |     \n",
      "        |     |     \n",
      "   _____|_____|_____\n",
      "        |     |     \n",
      "        |  O  |     \n",
      "   _____|_____|_____\n",
      "        |     |     \n",
      "     X  |  X  |  O  \n",
      "        |     |     \n",
      "\n"
     ]
    },
    {
     "name": "stdin",
     "output_type": "stream",
     "text": [
      "Player 1 pick a position: 4\n"
     ]
    },
    {
     "name": "stdout",
     "output_type": "stream",
     "text": [
      "    \n",
      "        |     |     \n",
      "        |     |     \n",
      "   _____|_____|_____\n",
      "        |     |     \n",
      "     X  |  O  |     \n",
      "   _____|_____|_____\n",
      "        |     |     \n",
      "     X  |  X  |  O  \n",
      "        |     |     \n",
      "\n",
      "{'7', '6', '9', '8'}\n"
     ]
    },
    {
     "name": "stdin",
     "output_type": "stream",
     "text": [
      "Player 2 pick a position: 7\n"
     ]
    },
    {
     "name": "stdout",
     "output_type": "stream",
     "text": [
      "    \n",
      "        |     |     \n",
      "     O  |     |     \n",
      "   _____|_____|_____\n",
      "        |     |     \n",
      "     X  |  O  |     \n",
      "   _____|_____|_____\n",
      "        |     |     \n",
      "     X  |  X  |  O  \n",
      "        |     |     \n",
      "\n"
     ]
    },
    {
     "name": "stdin",
     "output_type": "stream",
     "text": [
      "Player 1 pick a position: 6\n"
     ]
    },
    {
     "name": "stdout",
     "output_type": "stream",
     "text": [
      "    \n",
      "        |     |     \n",
      "     O  |     |     \n",
      "   _____|_____|_____\n",
      "        |     |     \n",
      "     X  |  O  |  X  \n",
      "   _____|_____|_____\n",
      "        |     |     \n",
      "     X  |  X  |  O  \n",
      "        |     |     \n",
      "\n",
      "{'9', '8'}\n"
     ]
    },
    {
     "name": "stdin",
     "output_type": "stream",
     "text": [
      "Player 2 pick a position: 9\n"
     ]
    },
    {
     "name": "stdout",
     "output_type": "stream",
     "text": [
      "    \n",
      "        |     |     \n",
      "     O  |     |  O  \n",
      "   _____|_____|_____\n",
      "        |     |     \n",
      "     X  |  O  |  X  \n",
      "   _____|_____|_____\n",
      "        |     |     \n",
      "     X  |  X  |  O  \n",
      "        |     |     \n",
      "\n"
     ]
    },
    {
     "name": "stdin",
     "output_type": "stream",
     "text": [
      "Player 1 pick a position: 8\n"
     ]
    },
    {
     "name": "stdout",
     "output_type": "stream",
     "text": [
      "    \n",
      "        |     |     \n",
      "     O  |  X  |  O  \n",
      "   _____|_____|_____\n",
      "        |     |     \n",
      "     X  |  O  |  X  \n",
      "   _____|_____|_____\n",
      "        |     |     \n",
      "     X  |  X  |  O  \n",
      "        |     |     \n",
      "\n",
      "set()\n"
     ]
    },
    {
     "ename": "KeyboardInterrupt",
     "evalue": "Interrupted by user",
     "output_type": "error",
     "traceback": [
      "\u001b[1;31m---------------------------------------------------------------------------\u001b[0m",
      "\u001b[1;31mKeyboardInterrupt\u001b[0m                         Traceback (most recent call last)",
      "Cell \u001b[1;32mIn[56], line 2\u001b[0m\n\u001b[0;32m      1\u001b[0m display_instructions()\n\u001b[1;32m----> 2\u001b[0m start_new_game(winner)\n",
      "Cell \u001b[1;32mIn[42], line 15\u001b[0m, in \u001b[0;36mstart_new_game\u001b[1;34m(winner)\u001b[0m\n\u001b[0;32m     12\u001b[0m display_game_board()\n\u001b[0;32m     14\u001b[0m \u001b[38;5;28;01mwhile\u001b[39;00m winner \u001b[38;5;241m==\u001b[39m \u001b[38;5;28;01mFalse\u001b[39;00m:\n\u001b[1;32m---> 15\u001b[0m     position_choice(positions,player1_choices,player2_choices)\n\u001b[0;32m     17\u001b[0m     winner \u001b[38;5;241m=\u001b[39m check_winner(player1_choices,player2_choices)\n\u001b[0;32m     19\u001b[0m \u001b[38;5;28;01mif\u001b[39;00m winner:\n",
      "Cell \u001b[1;32mIn[55], line 28\u001b[0m, in \u001b[0;36mposition_choice\u001b[1;34m(positions, player1_choices, player2_choices)\u001b[0m\n\u001b[0;32m     26\u001b[0m \u001b[38;5;28;01mwhile\u001b[39;00m player1 \u001b[38;5;241m==\u001b[39m \u001b[38;5;28;01mFalse\u001b[39;00m:\n\u001b[0;32m     27\u001b[0m     \u001b[38;5;28;01mwhile\u001b[39;00m choice \u001b[38;5;129;01mnot\u001b[39;00m \u001b[38;5;129;01min\u001b[39;00m positions:\n\u001b[1;32m---> 28\u001b[0m         choice \u001b[38;5;241m=\u001b[39m \u001b[38;5;28minput\u001b[39m(\u001b[38;5;124m\"\u001b[39m\u001b[38;5;124mPlayer 2 pick a position:\u001b[39m\u001b[38;5;124m\"\u001b[39m)\n\u001b[0;32m     30\u001b[0m         \u001b[38;5;28;01mif\u001b[39;00m choice \u001b[38;5;129;01mnot\u001b[39;00m \u001b[38;5;129;01min\u001b[39;00m positions:\n\u001b[0;32m     31\u001b[0m             \u001b[38;5;28mprint\u001b[39m(\u001b[38;5;124m'\u001b[39m\u001b[38;5;124mSorry, invalid choice\u001b[39m\u001b[38;5;124m'\u001b[39m)\n",
      "File \u001b[1;32m~\\anaconda3\\Lib\\site-packages\\ipykernel\\kernelbase.py:1262\u001b[0m, in \u001b[0;36mKernel.raw_input\u001b[1;34m(self, prompt)\u001b[0m\n\u001b[0;32m   1260\u001b[0m     msg \u001b[38;5;241m=\u001b[39m \u001b[38;5;124m\"\u001b[39m\u001b[38;5;124mraw_input was called, but this frontend does not support input requests.\u001b[39m\u001b[38;5;124m\"\u001b[39m\n\u001b[0;32m   1261\u001b[0m     \u001b[38;5;28;01mraise\u001b[39;00m StdinNotImplementedError(msg)\n\u001b[1;32m-> 1262\u001b[0m \u001b[38;5;28;01mreturn\u001b[39;00m \u001b[38;5;28mself\u001b[39m\u001b[38;5;241m.\u001b[39m_input_request(\n\u001b[0;32m   1263\u001b[0m     \u001b[38;5;28mstr\u001b[39m(prompt),\n\u001b[0;32m   1264\u001b[0m     \u001b[38;5;28mself\u001b[39m\u001b[38;5;241m.\u001b[39m_parent_ident[\u001b[38;5;124m\"\u001b[39m\u001b[38;5;124mshell\u001b[39m\u001b[38;5;124m\"\u001b[39m],\n\u001b[0;32m   1265\u001b[0m     \u001b[38;5;28mself\u001b[39m\u001b[38;5;241m.\u001b[39mget_parent(\u001b[38;5;124m\"\u001b[39m\u001b[38;5;124mshell\u001b[39m\u001b[38;5;124m\"\u001b[39m),\n\u001b[0;32m   1266\u001b[0m     password\u001b[38;5;241m=\u001b[39m\u001b[38;5;28;01mFalse\u001b[39;00m,\n\u001b[0;32m   1267\u001b[0m )\n",
      "File \u001b[1;32m~\\anaconda3\\Lib\\site-packages\\ipykernel\\kernelbase.py:1305\u001b[0m, in \u001b[0;36mKernel._input_request\u001b[1;34m(self, prompt, ident, parent, password)\u001b[0m\n\u001b[0;32m   1302\u001b[0m \u001b[38;5;28;01mexcept\u001b[39;00m \u001b[38;5;167;01mKeyboardInterrupt\u001b[39;00m:\n\u001b[0;32m   1303\u001b[0m     \u001b[38;5;66;03m# re-raise KeyboardInterrupt, to truncate traceback\u001b[39;00m\n\u001b[0;32m   1304\u001b[0m     msg \u001b[38;5;241m=\u001b[39m \u001b[38;5;124m\"\u001b[39m\u001b[38;5;124mInterrupted by user\u001b[39m\u001b[38;5;124m\"\u001b[39m\n\u001b[1;32m-> 1305\u001b[0m     \u001b[38;5;28;01mraise\u001b[39;00m \u001b[38;5;167;01mKeyboardInterrupt\u001b[39;00m(msg) \u001b[38;5;28;01mfrom\u001b[39;00m \u001b[38;5;28;01mNone\u001b[39;00m\n\u001b[0;32m   1306\u001b[0m \u001b[38;5;28;01mexcept\u001b[39;00m \u001b[38;5;167;01mException\u001b[39;00m:\n\u001b[0;32m   1307\u001b[0m     \u001b[38;5;28mself\u001b[39m\u001b[38;5;241m.\u001b[39mlog\u001b[38;5;241m.\u001b[39mwarning(\u001b[38;5;124m\"\u001b[39m\u001b[38;5;124mInvalid Message:\u001b[39m\u001b[38;5;124m\"\u001b[39m, exc_info\u001b[38;5;241m=\u001b[39m\u001b[38;5;28;01mTrue\u001b[39;00m)\n",
      "\u001b[1;31mKeyboardInterrupt\u001b[0m: Interrupted by user"
     ]
    }
   ],
   "source": [
    "display_instructions()\n",
    "start_new_game(winner)\n"
   ]
  },
  {
   "cell_type": "code",
   "execution_count": null,
   "metadata": {},
   "outputs": [],
   "source": []
  }
 ],
 "metadata": {
  "kernelspec": {
   "display_name": "Python 3 (ipykernel)",
   "language": "python",
   "name": "python3"
  },
  "language_info": {
   "codemirror_mode": {
    "name": "ipython",
    "version": 3
   },
   "file_extension": ".py",
   "mimetype": "text/x-python",
   "name": "python",
   "nbconvert_exporter": "python",
   "pygments_lexer": "ipython3",
   "version": "3.11.7"
  }
 },
 "nbformat": 4,
 "nbformat_minor": 4
}
